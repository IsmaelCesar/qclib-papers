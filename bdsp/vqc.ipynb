{
 "cells": [
  {
   "cell_type": "markdown",
   "id": "21c0adf5",
   "metadata": {},
   "source": [
    "# Experiments on VQC\n",
    "### Main experiment"
   ]
  },
  {
   "cell_type": "code",
   "execution_count": 9,
   "id": "1a5b464a",
   "metadata": {},
   "outputs": [
    {
     "name": "stderr",
     "output_type": "stream",
     "text": [
      "ibmqfactory.load_account:WARNING:2022-05-11 03:54:13,936: Credentials are already in use. The existing account in the session will be replaced.\n"
     ]
    }
   ],
   "source": [
    "from qiskit import IBMQ, QuantumRegister, QuantumCircuit\n",
    "IBMQ.load_account()\n",
    "provider = IBMQ.get_provider(hub='ibm-q-research')"
   ]
  },
  {
   "cell_type": "code",
   "execution_count": 2,
   "id": "a12ae81b",
   "metadata": {},
   "outputs": [],
   "source": [
    "import warnings\n",
    "warnings.filterwarnings(\"ignore\")\n",
    "\n",
    "import numpy as np\n",
    "\n",
    "from qiskit.test.mock import FakeJakarta\n",
    "\n",
    "from qiskit.utils import QuantumInstance\n",
    "from qiskit.providers.aer.backends import AerSimulator\n",
    "from qiskit.aqua import aqua_globals\n",
    "from qiskit.utils import algorithm_globals\n",
    "from qiskit.algorithms.optimizers import SPSA\n",
    "from qiskit.circuit.library import TwoLocal\n",
    "from qiskit_machine_learning.circuit.library import RawFeatureVector\n",
    "\n",
    "import sys\n",
    "sys.path.append('../../qclib/')\n",
    "from qclib.machine_learning.bdsp_feature_vector import BdspFeatureVector\n",
    "from qclib.machine_learning.vqc import VQC\n",
    "from qclib.machine_learning.datasets import digits\n",
    "\n",
    "seed = 42"
   ]
  },
  {
   "cell_type": "code",
   "execution_count": 3,
   "id": "aff80e7e",
   "metadata": {},
   "outputs": [],
   "source": [
    "# Dataset load.\n",
    "\n",
    "sample_total, training_input, test_input, class_labels = digits.load(classes=[0, 1],\n",
    "                                                                      training_size=40,\n",
    "                                                                      test_size=10,\n",
    "                                                                      random_seed=seed)\n",
    "feature_dim = len(training_input[class_labels[0]][0])"
   ]
  },
  {
   "cell_type": "code",
   "execution_count": 13,
   "id": "f2595ea5",
   "metadata": {},
   "outputs": [
    {
     "data": {
      "text/html": [
       "<pre style=\"word-wrap: normal;white-space: pre;background: #fff0;line-height: 1.1;font-family: &quot;Courier New&quot;,Courier,monospace\">     ┌──────────┐ ┌──────────┐                           ┌───────────┐»\n",
       "q_0: ┤ Ry(θ[0]) ├─┤ Rz(θ[6]) ├─■──■─────■─────■────────■─┤ Ry(θ[12]) ├»\n",
       "     ├──────────┤ ├──────────┤ │  │     │     │        │ └───────────┘»\n",
       "q_1: ┤ Ry(θ[1]) ├─┤ Rz(θ[7]) ├─■──┼──■──┼──■──┼─────■──┼──────────────»\n",
       "     ├──────────┤ ├──────────┤    │  │  │  │  │     │  │              »\n",
       "q_2: ┤ Ry(θ[2]) ├─┤ Rz(θ[8]) ├────■──■──┼──┼──┼──■──┼──┼───────■──────»\n",
       "     ├──────────┤ ├──────────┤          │  │  │  │  │  │       │      »\n",
       "q_3: ┤ Ry(θ[3]) ├─┤ Rz(θ[9]) ├──────────■──■──┼──■──┼──┼───────┼──────»\n",
       "     ├──────────┤┌┴──────────┤                │     │  │       │      »\n",
       "q_4: ┤ Ry(θ[4]) ├┤ Rz(θ[10]) ├────────────────■─────■──┼───────■──────»\n",
       "     ├──────────┤├───────────┤                         │              »\n",
       "q_5: ┤ Ry(θ[5]) ├┤ Rz(θ[11]) ├─────────────────────────■──────────────»\n",
       "     └──────────┘└───────────┘                                        »\n",
       "«     ┌───────────┐                                                    »\n",
       "«q_0: ┤ Rz(θ[18]) ├────────────────────────────────────────────────────»\n",
       "«     └───────────┘┌───────────┐┌───────────┐                          »\n",
       "«q_1: ──────■──────┤ Ry(θ[13]) ├┤ Rz(θ[19]) ├──────────────────────────»\n",
       "«           │      └───────────┘└───────────┘┌───────────┐┌───────────┐»\n",
       "«q_2: ──────┼─────────────────────────■──────┤ Ry(θ[14]) ├┤ Rz(θ[20]) ├»\n",
       "«           │                         │      └───────────┘├───────────┤»\n",
       "«q_3: ──────┼────────────■────────────┼────────────■──────┤ Ry(θ[15]) ├»\n",
       "«           │            │            │            │      └───────────┘»\n",
       "«q_4: ──────┼────────────■────────────┼────────────┼────────────■──────»\n",
       "«           │                         │            │            │      »\n",
       "«q_5: ──────■─────────────────────────■────────────■────────────■──────»\n",
       "«                                                                      »\n",
       "«                               \n",
       "«q_0: ──────────────────────────\n",
       "«                               \n",
       "«q_1: ──────────────────────────\n",
       "«                               \n",
       "«q_2: ──────────────────────────\n",
       "«     ┌───────────┐             \n",
       "«q_3: ┤ Rz(θ[21]) ├─────────────\n",
       "«     ├───────────┤┌───────────┐\n",
       "«q_4: ┤ Ry(θ[16]) ├┤ Rz(θ[22]) ├\n",
       "«     ├───────────┤├───────────┤\n",
       "«q_5: ┤ Ry(θ[17]) ├┤ Rz(θ[23]) ├\n",
       "«     └───────────┘└───────────┘</pre>"
      ],
      "text/plain": [
       "     ┌──────────┐ ┌──────────┐                           ┌───────────┐»\n",
       "q_0: ┤ Ry(θ[0]) ├─┤ Rz(θ[6]) ├─■──■─────■─────■────────■─┤ Ry(θ[12]) ├»\n",
       "     ├──────────┤ ├──────────┤ │  │     │     │        │ └───────────┘»\n",
       "q_1: ┤ Ry(θ[1]) ├─┤ Rz(θ[7]) ├─■──┼──■──┼──■──┼─────■──┼──────────────»\n",
       "     ├──────────┤ ├──────────┤    │  │  │  │  │     │  │              »\n",
       "q_2: ┤ Ry(θ[2]) ├─┤ Rz(θ[8]) ├────■──■──┼──┼──┼──■──┼──┼───────■──────»\n",
       "     ├──────────┤ ├──────────┤          │  │  │  │  │  │       │      »\n",
       "q_3: ┤ Ry(θ[3]) ├─┤ Rz(θ[9]) ├──────────■──■──┼──■──┼──┼───────┼──────»\n",
       "     ├──────────┤┌┴──────────┤                │     │  │       │      »\n",
       "q_4: ┤ Ry(θ[4]) ├┤ Rz(θ[10]) ├────────────────■─────■──┼───────■──────»\n",
       "     ├──────────┤├───────────┤                         │              »\n",
       "q_5: ┤ Ry(θ[5]) ├┤ Rz(θ[11]) ├─────────────────────────■──────────────»\n",
       "     └──────────┘└───────────┘                                        »\n",
       "«     ┌───────────┐                                                    »\n",
       "«q_0: ┤ Rz(θ[18]) ├────────────────────────────────────────────────────»\n",
       "«     └───────────┘┌───────────┐┌───────────┐                          »\n",
       "«q_1: ──────■──────┤ Ry(θ[13]) ├┤ Rz(θ[19]) ├──────────────────────────»\n",
       "«           │      └───────────┘└───────────┘┌───────────┐┌───────────┐»\n",
       "«q_2: ──────┼─────────────────────────■──────┤ Ry(θ[14]) ├┤ Rz(θ[20]) ├»\n",
       "«           │                         │      └───────────┘├───────────┤»\n",
       "«q_3: ──────┼────────────■────────────┼────────────■──────┤ Ry(θ[15]) ├»\n",
       "«           │            │            │            │      └───────────┘»\n",
       "«q_4: ──────┼────────────■────────────┼────────────┼────────────■──────»\n",
       "«           │                         │            │            │      »\n",
       "«q_5: ──────■─────────────────────────■────────────■────────────■──────»\n",
       "«                                                                      »\n",
       "«                               \n",
       "«q_0: ──────────────────────────\n",
       "«                               \n",
       "«q_1: ──────────────────────────\n",
       "«                               \n",
       "«q_2: ──────────────────────────\n",
       "«     ┌───────────┐             \n",
       "«q_3: ┤ Rz(θ[21]) ├─────────────\n",
       "«     ├───────────┤┌───────────┐\n",
       "«q_4: ┤ Ry(θ[16]) ├┤ Rz(θ[22]) ├\n",
       "«     ├───────────┤├───────────┤\n",
       "«q_5: ┤ Ry(θ[17]) ├┤ Rz(θ[23]) ├\n",
       "«     └───────────┘└───────────┘"
      ]
     },
     "execution_count": 13,
     "metadata": {},
     "output_type": "execute_result"
    }
   ],
   "source": [
    "# Parameterized circuit model\n",
    "\n",
    "n_qubits = int(np.ceil(np.log2(feature_dim)))\n",
    "var_form = TwoLocal(n_qubits, ['ry', 'rz'], 'cz', reps=1)\n",
    "var_form.decompose().draw()"
   ]
  },
  {
   "cell_type": "code",
   "execution_count": 5,
   "id": "97b362f2",
   "metadata": {},
   "outputs": [],
   "source": [
    "def backend_info(backend):\n",
    "    backend_name = backend.name()\n",
    "    backend_qubits = backend.configuration().n_qubits\n",
    "    print('Experiments using {0} backend, with {1} qubits available.'.format(backend_name, backend_qubits))\n",
    "\n",
    "def ideal_instance():\n",
    "    ideal = AerSimulator()\n",
    "    return QuantumInstance(ideal, shots=1024, seed_simulator=seed, seed_transpiler=seed)\n",
    "\n",
    "def noisy_instance():\n",
    "    device = FakeJakarta()\n",
    "    noisy = AerSimulator.from_backend(device)\n",
    "    return QuantumInstance(noisy, shots=1024, seed_simulator=seed, seed_transpiler=seed)\n",
    "\n",
    "def experiment(s, reps, quantum_instance, vqc):\n",
    "    acc = []\n",
    "    for i in range(reps):\n",
    "        print(f's\\t{s}\\trun\\t{i}\\t', end='')\n",
    "\n",
    "        result = vqc.run(quantum_instance)\n",
    "        acc.append(result[\"testing_accuracy\"])\n",
    "\n",
    "        print(f'acc\\t{result[\"testing_accuracy\"]}')\n",
    "\n",
    "    print(f's\\t{s}\\t--\\t--\\tavg\\t{sum(acc) / len(acc)}\\tstd\\t{np.std(acc)}')"
   ]
  },
  {
   "cell_type": "code",
   "execution_count": 14,
   "id": "c5c6f96c",
   "metadata": {},
   "outputs": [
    {
     "name": "stdout",
     "output_type": "stream",
     "text": [
      "Experiments using aer_simulator backend, with 29 qubits available.\n",
      "bdsp\n",
      "circ.num_qubits: 19\n",
      "s\t4\trun\t0\tacc\t0.6\n",
      "s\t4\t--\t--\tavg\t0.6\tstd\t0.0\n"
     ]
    }
   ],
   "source": [
    "# VQC experiments\n",
    "\n",
    "# Config.\n",
    "run_qiskit = False\n",
    "run_bdsp = True\n",
    "run_ideal = True\n",
    "run_noisy = False\n",
    "\n",
    "reps = 1\n",
    "\n",
    "bdsp_split = list(range(1, n_qubits+1)))\n",
    "bdsp_split = [4]\n",
    "# End config.\n",
    "\n",
    "aqua_globals.random_seed = seed\n",
    "algorithm_globals.random_seed = seed\n",
    "\n",
    "optimizer = SPSA(maxiter=50)\n",
    "quantum_instances = []\n",
    "training_size = sum([ len(val) for key, val in training_input.items() ] )\n",
    "batch_size = int(training_size * 0.1)\n",
    "\n",
    "if run_ideal:\n",
    "    quantum_instances.append(ideal_instance())\n",
    "if run_noisy:\n",
    "    quantum_instances.append(noisy_instance())\n",
    "\n",
    "for quantum_instance in quantum_instances:\n",
    "    backend_info(quantum_instance.backend)\n",
    "\n",
    "    # Experiment using qiskit initialize function as feature map.\n",
    "    if run_qiskit:\n",
    "        print('qiskit')\n",
    "        qiskit_feature_map = RawFeatureVector(feature_dimension=feature_dim)\n",
    "        vqc = VQC(optimizer, qiskit_feature_map, var_form, training_input, test_input, None, minibatch_size=batch_size)\n",
    "        experiment(0.0, reps, quantum_instance, vqc)\n",
    "\n",
    "    # Experiment using BAA initialize function as feature map.\n",
    "    if run_bdsp:\n",
    "        print('bdsp')\n",
    "        for s in bdsp_split:\n",
    "            num_qubits = int((s+1)*(feature_dim/(2**s))-1)\n",
    "            reg = QuantumRegister(num_qubits)\n",
    "            var_form_2 = QuantumCircuit(reg)\n",
    "            var_form_2.append(var_form, list(range(var_form.num_qubits)))\n",
    "            \n",
    "            bdsp_feature_map = BdspFeatureVector(feature_dimension=feature_dim, split=s)\n",
    "            \n",
    "            vqc = VQC(optimizer, bdsp_feature_map, var_form_2, training_input, test_input, None, minibatch_size=batch_size)\n",
    "            experiment(s, reps, quantum_instance, vqc)"
   ]
  },
  {
   "cell_type": "code",
   "execution_count": null,
   "id": "0a44e4a6",
   "metadata": {},
   "outputs": [],
   "source": []
  }
 ],
 "metadata": {
  "kernelspec": {
   "display_name": "Python 3 (ipykernel)",
   "language": "python",
   "name": "python3"
  },
  "language_info": {
   "codemirror_mode": {
    "name": "ipython",
    "version": 3
   },
   "file_extension": ".py",
   "mimetype": "text/x-python",
   "name": "python",
   "nbconvert_exporter": "python",
   "pygments_lexer": "ipython3",
   "version": "3.7.13"
  }
 },
 "nbformat": 4,
 "nbformat_minor": 5
}
