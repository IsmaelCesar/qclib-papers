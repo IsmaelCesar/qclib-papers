{
 "cells": [
  {
   "cell_type": "markdown",
   "metadata": {},
   "source": [
    "# Error ratio\n",
    "### Section 2.1 of the Supplementary Information (Fig.4)"
   ]
  },
  {
   "cell_type": "code",
   "execution_count": null,
   "metadata": {
    "collapsed": true
   },
   "outputs": [],
   "source": [
    "import matplotlib.pyplot as plt\n",
    "import numpy as np\n",
    "import pandas as pd"
   ]
  },
  {
   "cell_type": "code",
   "execution_count": null,
   "metadata": {},
   "outputs": [],
   "source": [
    "baa_jakarta_7 = pd.read_csv(\n",
    "    'data/baa_average_probability_measure_jakarta_n7.txt', skiprows=5, header=None, delim_whitespace=True, index_col=[0],\n",
    "    names=['max_fidelity_loss'] + [f'probability_measure_{i}' for i in range(2**7)]\n",
    ")"
   ]
  },
  {
   "cell_type": "code",
   "execution_count": null,
   "metadata": {},
   "outputs": [],
   "source": [
    "baa_casablanca_7 = pd.read_csv(\n",
    "    'data/baa_average_probability_measure_casablanca_n7.txt', skiprows=5, header=None, delim_whitespace=True, index_col=[0],\n",
    "    names=['max_fidelity_loss'] + [f'probability_measure_{i}' for i in range(2**7)]\n",
    ")"
   ]
  },
  {
   "cell_type": "code",
   "execution_count": null,
   "metadata": {},
   "outputs": [],
   "source": [
    "baa_aer_sim_7 = pd.read_csv(\n",
    "    'data/baa_average_probability_measure_aer_simulator_n7.txt', skiprows=5, header=None, delim_whitespace=True, index_col=[0],\n",
    "    names=['max_fidelity_loss'] + [f'probability_measure_{i}' for i in range(2**7)]\n",
    ")"
   ]
  },
  {
   "cell_type": "code",
   "execution_count": null,
   "metadata": {
    "collapsed": false,
    "pycharm": {
     "name": "#%%\n"
    }
   },
   "outputs": [],
   "source": [
    "def plot_figure(ideal_data, comparing_data, system, limit):\n",
    "    fig = plt.figure(figsize=(17.5, 15))\n",
    "\n",
    "    ratio_fake = []\n",
    "    \n",
    "    worst_fidelity = 1\n",
    "    for comparing_max_loss in comparing_data.index:\n",
    "        mae = np.average(np.abs(ideal_data.loc[0.00].values - comparing_data.loc[comparing_max_loss].values))\n",
    "        ratio_fake.append([comparing_max_loss, mae / worst_fidelity])\n",
    "    ratio_fake = np.asarray(ratio_fake)\n",
    "    plt.plot(ratio_fake[:, 0], ratio_fake[:, 1])\n",
    "\n",
    "    ratio_aer = []\n",
    "    comparing_data = ideal_data\n",
    "    for comparing_max_loss in comparing_data.index:\n",
    "        mae = np.average(np.abs(ideal_data.loc[0.00].values - comparing_data.loc[comparing_max_loss].values))\n",
    "        ratio_aer.append([comparing_max_loss, mae / worst_fidelity])\n",
    "    ratio_aer = np.asarray(ratio_aer)\n",
    "    plt.plot(ratio_aer[:, 0], ratio_aer[:, 1], linestyle=(0,(5,5))) \n",
    "\n",
    "    plt.axvspan(limit, 0.3, color='green', alpha=0.1)\n",
    "    plt.axvspan(0.00, limit, color='red', alpha=0.1)\n",
    "    plt.xticks(fontsize=36, fontfamily='times new roman')\n",
    "    plt.yticks(fontsize=36, fontfamily='times new roman')\n",
    "    plt.ylabel(f'mean absolute error ', fontsize=42, fontfamily='times new roman')\n",
    "    plt.xlabel('max fidelity loss', fontsize=42, fontfamily='times new roman')\n",
    "\n",
    "    #plt.savefig(f'{system}_error_ratio.png')\n",
    "    #plt.savefig(f'{system}_error_ratio.jpg')\n",
    "    plt.savefig(f'save/{system}_error_ratio.pdf')\n",
    "\n",
    "plot_figure(baa_aer_sim_7, baa_jakarta_7, 'jakarta', limit=0.23)\n",
    "plot_figure(baa_aer_sim_7, baa_casablanca_7, 'casablanca', limit=0.225)"
   ]
  },
  {
   "cell_type": "code",
   "execution_count": null,
   "metadata": {},
   "outputs": [],
   "source": []
  }
 ],
 "metadata": {
  "kernelspec": {
   "display_name": "Python 3",
   "language": "python",
   "name": "python3"
  },
  "language_info": {
   "codemirror_mode": {
    "name": "ipython",
    "version": 3
   },
   "file_extension": ".py",
   "mimetype": "text/x-python",
   "name": "python",
   "nbconvert_exporter": "python",
   "pygments_lexer": "ipython3",
   "version": "3.9.2"
  }
 },
 "nbformat": 4,
 "nbformat_minor": 0
}
