{
 "cells": [
  {
   "cell_type": "markdown",
   "id": "6dba4d84",
   "metadata": {},
   "source": [
    "# BAA MAEs\n",
    "### Section 2.1 of the Supplementary Information (Table 3)"
   ]
  },
  {
   "cell_type": "markdown",
   "id": "1902d6e4",
   "metadata": {},
   "source": [
    "# Qiskit config"
   ]
  },
  {
   "cell_type": "code",
   "execution_count": null,
   "id": "1644302a",
   "metadata": {},
   "outputs": [],
   "source": [
    "from qiskit import IBMQ, execute, transpile\n",
    "from qiskit.providers.aer.backends import AerSimulator\n",
    "\n",
    "IBMQ.load_account()\n",
    "provider = IBMQ.get_provider(hub='ibm-q-research') # 'ibm-q'"
   ]
  },
  {
   "cell_type": "code",
   "execution_count": null,
   "id": "df3b39a2",
   "metadata": {},
   "outputs": [],
   "source": [
    "backend_1  = provider.get_backend('ibmq_qasm_simulator')\n",
    "#backend_2  = provider.get_backend('ibmq_casablanca') casablanca is no more. Farewell, old friend.\n",
    "backend_3  = provider.get_backend('ibmq_jakarta')\n",
    "backend_4  = provider.get_backend('ibm_perth')\n",
    "\n",
    "shots      = 8192\n",
    "\n",
    "\"\"\"\n",
    "    Select the backends that will be compared.\n",
    "\"\"\"\n",
    "\n",
    "backends = [ backend_1 ]"
   ]
  },
  {
   "cell_type": "markdown",
   "id": "bea253d4",
   "metadata": {},
   "source": [
    "# Experiment procedures"
   ]
  },
  {
   "cell_type": "code",
   "execution_count": null,
   "id": "850a5d20",
   "metadata": {},
   "outputs": [],
   "source": [
    "import warnings\n",
    "warnings.filterwarnings(\"ignore\")\n",
    "\n",
    "import numpy as np\n",
    "from qclib.state_preparation.baa_schmidt import initialize\n",
    "\n",
    "def counts(transpiled_circuit):\n",
    "    count_ops = transpiled_circuit.count_ops()\n",
    "    n_cx = 0\n",
    "    if 'cx' in count_ops:\n",
    "        n_cx = count_ops['cx']\n",
    "    n_dp = transpiled_circuit.depth()\n",
    "\n",
    "    return n_cx, n_dp\n",
    "\n",
    "def fidelity_and_counts(state, l):\n",
    "    circuit = initialize(state, max_fidelity_loss=l, strategy='brute_force', use_low_rank=True)\n",
    "    transpiled_circuit = transpile(circuit, basis_gates=['u1','u2','u3', 'cx'], optimization_level=3)\n",
    "    backend = AerSimulator()\n",
    "    transpiled_circuit.save_statevector()\n",
    "    ket = backend.run(transpiled_circuit).result().get_statevector()\n",
    "    bra = np.conj(state)\n",
    "\n",
    "    n_cx, n_dp = counts(transpiled_circuit)\n",
    "\n",
    "    return np.abs(bra.dot(ket))**2, n_cx, n_dp, ket\n",
    "\n",
    "def measurement(circuit):\n",
    "    n = len(circuit.qubits)\n",
    "    circuit.measure_all()\n",
    "\n",
    "    job = execute(circuit, backend, shots=shots, optimization_level=3)\n",
    "    \n",
    "    counts = job.result().get_counts(circuit)\n",
    "    v = sum(counts.values())\n",
    "    \n",
    "    counts2 = {}\n",
    "    for m in range(2**n):\n",
    "        pattern = '{:0{}b}'.format(m, n)\n",
    "        if pattern in counts:\n",
    "            counts2[pattern] = counts[pattern]\n",
    "        else:\n",
    "            counts2[pattern] = 0.0\n",
    "            \n",
    "    return { key : value/v for (key, value) in counts2.items() }\n",
    "    \n",
    "def run_circuit(state, l=0.0):\n",
    "    circuit = initialize(state, max_fidelity_loss=l, strategy='brute_force', use_low_rank=False)\n",
    "    \n",
    "    prob = measurement(circuit)\n",
    "    \n",
    "    return np.array([val for key, val in prob.items()])"
   ]
  },
  {
   "cell_type": "markdown",
   "id": "dd5fe03b",
   "metadata": {},
   "source": [
    "# Experiment"
   ]
  },
  {
   "cell_type": "code",
   "execution_count": null,
   "id": "aa009e0e",
   "metadata": {},
   "outputs": [],
   "source": [
    "reps = 10\n",
    "n_list = [7]"
   ]
  },
  {
   "cell_type": "code",
   "execution_count": null,
   "id": "4b3aa6b4",
   "metadata": {},
   "outputs": [],
   "source": [
    "states = {}\n",
    "\n",
    "# Random complex input vector.\n",
    "for n in n_list:\n",
    "    rnd = np.random.RandomState(42)\n",
    "    state = rnd.rand(2**n) + rnd.rand(2**n) * 1j\n",
    "    states[2**n] = state/np.linalg.norm(state)\n",
    "\n",
    "ideals = {}\n",
    "result = {}\n",
    "fidelity = {}\n",
    "for n in n_list:\n",
    "    print('\\nn =', n)\n",
    "    \n",
    "    input_state = states[2**n]\n",
    "    \n",
    "    ideals[n] = np.power(np.abs(input_state), 2)\n",
    "\n",
    "    result[n] = {}\n",
    "    fidelity[n] = {}\n",
    "    for j, backend in enumerate(backends):\n",
    "        backend_name = backend.name()\n",
    "        backend_config = backend.configuration()\n",
    "        backend_qubits = backend_config.n_qubits\n",
    "\n",
    "        print('\\nExperiments using {0} backend, with {1} qubits available.'.format(backend_name, backend_qubits))\n",
    "\n",
    "        result[n][backend_name] = {}\n",
    "        fidelity[n][backend_name] = {}\n",
    "        loss = [0.0, 0.12, 0.18, 0.19, 0.22, 0.23, 0.24, 0.25, 0.26]\n",
    "        for l in loss:\n",
    "            print('max. l =', l, 'run: ', end='')\n",
    "\n",
    "            probs = []\n",
    "            for i in range(reps):\n",
    "                print(str(i)+' ', end='')\n",
    "                probs.append( run_circuit(input_state, l) )\n",
    "\n",
    "            fy, n_cx, n_dp, ket = fidelity_and_counts(input_state, l)\n",
    "            print('fidelity:', round(fy,5), '\\tcnots:', n_cx, '\\tdepth:', n_dp)\n",
    "            result[n][backend_name][l] = probs\n",
    "            fidelity[n][backend_name][l] = fy\n",
    "\n"
   ]
  },
  {
   "cell_type": "markdown",
   "id": "1a5b4dc2",
   "metadata": {},
   "source": [
    "# Print Results"
   ]
  },
  {
   "cell_type": "code",
   "execution_count": null,
   "id": "068be22b",
   "metadata": {},
   "outputs": [],
   "source": [
    "def print_result(ideal, probs):\n",
    "    n = int(np.log2(len(ideal)))\n",
    "        \n",
    "    for r, prob in probs.items():\n",
    "        for i, p in enumerate(prob):\n",
    "            mae = np.sum( np.abs( p - ideal ) ) / 2**n\n",
    "            print('max. l =', r, '\\tMAE',i,'=',mae)\n",
    "    print('')\n",
    "    for r, prob in probs.items():\n",
    "        maes = []\n",
    "        for i, p in enumerate(prob):\n",
    "            mae = np.sum( np.abs( p - ideal ) ) / 2**n\n",
    "            maes.append( mae )\n",
    "        avg = np.mean(maes)\n",
    "        std = np.std(maes)\n",
    "        print('max. l =', r, '\\tAVG.MAE =', round(avg,7), '\\tSTD.MAE =', std)\n",
    "\n",
    "for n in n_list:\n",
    "    print('\\nn =', n)\n",
    "    for j, backend in enumerate(backends):\n",
    "        print('\\nbackend =', backend.name(), '\\n')\n",
    "        print_result(ideals[n], result[n][backend.name()])\n"
   ]
  },
  {
   "cell_type": "code",
   "execution_count": null,
   "id": "1e06f6c3",
   "metadata": {},
   "outputs": [],
   "source": []
  }
 ],
 "metadata": {
  "kernelspec": {
   "display_name": "Python 3 (ipykernel)",
   "language": "python",
   "name": "python3"
  },
  "language_info": {
   "codemirror_mode": {
    "name": "ipython",
    "version": 3
   },
   "file_extension": ".py",
   "mimetype": "text/x-python",
   "name": "python",
   "nbconvert_exporter": "python",
   "pygments_lexer": "ipython3",
   "version": "3.9.2"
  }
 },
 "nbformat": 4,
 "nbformat_minor": 5
}
