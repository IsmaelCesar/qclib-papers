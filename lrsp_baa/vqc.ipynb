{
 "cells": [
  {
   "cell_type": "markdown",
   "id": "21c0adf5",
   "metadata": {},
   "source": [
    "# Experiments on VQC\n",
    "### Main experiment (Figure 4)"
   ]
  },
  {
   "cell_type": "code",
   "execution_count": null,
   "id": "1a5b464a",
   "metadata": {},
   "outputs": [],
   "source": [
    "from qiskit import IBMQ\n",
    "IBMQ.load_account()\n",
    "provider = IBMQ.get_provider(hub='ibm-q-research')"
   ]
  },
  {
   "cell_type": "code",
   "execution_count": null,
   "id": "a12ae81b",
   "metadata": {},
   "outputs": [],
   "source": [
    "import warnings\n",
    "warnings.filterwarnings(\"ignore\")\n",
    "\n",
    "import numpy as np\n",
    "\n",
    "from qiskit.test.mock import FakeJakarta\n",
    "\n",
    "from qiskit.utils import QuantumInstance\n",
    "from qiskit.providers.aer.backends import AerSimulator\n",
    "from qiskit.aqua import aqua_globals\n",
    "from qiskit.utils import algorithm_globals\n",
    "from qiskit.algorithms.optimizers import SPSA\n",
    "from qiskit.circuit.library import TwoLocal\n",
    "from qiskit_machine_learning.circuit.library import RawFeatureVector\n",
    "\n",
    "from qclib.machine_learning.baa_feature_vector import BaaFeatureVector\n",
    "from qclib.machine_learning.vqc import VQC\n",
    "from qclib.machine_learning.datasets import digits\n",
    "\n",
    "seed = 42"
   ]
  },
  {
   "cell_type": "code",
   "execution_count": null,
   "id": "aff80e7e",
   "metadata": {},
   "outputs": [],
   "source": [
    "# Dataset load.\n",
    "\n",
    "sample_total, training_input, test_input, class_labels = digits.load(classes=[0, 1],\n",
    "                                                                      training_size=40,\n",
    "                                                                      test_size=10,\n",
    "                                                                      random_seed=seed)\n",
    "feature_dim = len(training_input[class_labels[0]][0])"
   ]
  },
  {
   "cell_type": "code",
   "execution_count": null,
   "id": "f2595ea5",
   "metadata": {},
   "outputs": [],
   "source": [
    "# Parameterized circuit model\n",
    "\n",
    "n_qubits = int(np.ceil(np.log2(feature_dim)))\n",
    "var_form = TwoLocal(n_qubits, ['ry', 'rz'], 'cz', reps=1)\n",
    "var_form.decompose().draw()"
   ]
  },
  {
   "cell_type": "code",
   "execution_count": null,
   "id": "97b362f2",
   "metadata": {},
   "outputs": [],
   "source": [
    "def backend_info(backend):\n",
    "    backend_name = backend.name()\n",
    "    backend_qubits = backend.configuration().n_qubits\n",
    "    print('Experiments using {0} backend, with {1} qubits available.'.format(backend_name, backend_qubits))\n",
    "\n",
    "def ideal_instance():\n",
    "    ideal = AerSimulator()\n",
    "    return QuantumInstance(ideal, shots=1024, seed_simulator=seed, seed_transpiler=seed)\n",
    "\n",
    "def noisy_instance():\n",
    "    device = FakeJakarta()\n",
    "    noisy = AerSimulator.from_backend(device)\n",
    "    return QuantumInstance(noisy, shots=1024, seed_simulator=seed, seed_transpiler=seed)\n",
    "\n",
    "def experiment(l, reps, quantum_instance, vqc):\n",
    "    acc = []\n",
    "    for i in range(reps):\n",
    "        print(f'l\\t{l}\\trun\\t{i}\\t', end='')\n",
    "\n",
    "        result = vqc.run(quantum_instance)\n",
    "        acc.append(result[\"testing_accuracy\"])\n",
    "\n",
    "        print(f'acc\\t{result[\"testing_accuracy\"]}')\n",
    "\n",
    "    print(f'l\\t{l}\\t--\\t--\\tavg\\t{sum(acc) / len(acc)}\\tstd\\t{np.std(acc)}')"
   ]
  },
  {
   "cell_type": "code",
   "execution_count": null,
   "id": "c5c6f96c",
   "metadata": {},
   "outputs": [],
   "source": [
    "# VQC experiments\n",
    "\n",
    "# Config.\n",
    "run_qiskit = True\n",
    "run_baa = True\n",
    "run_ideal = True\n",
    "run_noisy = True\n",
    "\n",
    "reps = 1\n",
    "\n",
    "baa_strategy = 'brute_force'\n",
    "baa_low_rank = True\n",
    "baa_l_max = [i/10 for i in range(11)]\n",
    "# End config.\n",
    "\n",
    "aqua_globals.random_seed = seed\n",
    "algorithm_globals.random_seed = seed\n",
    "\n",
    "optimizer = SPSA(maxiter=200)\n",
    "quantum_instances = []\n",
    "training_size = sum([ len(val) for key, val in training_input.items() ] )\n",
    "batch_size = int(training_size * 0.1)\n",
    "\n",
    "if run_ideal:\n",
    "    quantum_instances.append(ideal_instance())\n",
    "if run_noisy:\n",
    "    quantum_instances.append(noisy_instance())\n",
    "\n",
    "for quantum_instance in quantum_instances:\n",
    "    backend_info(quantum_instance.backend)\n",
    "\n",
    "    # Experiment using qiskit initialize function as feature map.\n",
    "    if run_qiskit:\n",
    "        print('qiskit')\n",
    "        qiskit_feature_map = RawFeatureVector(feature_dimension=feature_dim)\n",
    "        vqc = VQC(optimizer, qiskit_feature_map, var_form, training_input, test_input, None, minibatch_size=batch_size)\n",
    "        experiment(0.0, reps, quantum_instance, vqc)\n",
    "\n",
    "    # Experiment using BAA initialize function as feature map.\n",
    "    if run_baa:\n",
    "        print('baa')\n",
    "        for l in baa_l_max:\n",
    "            baa_feature_map = BaaFeatureVector(feature_dimension=feature_dim, \n",
    "                                               strategy=baa_strategy,\n",
    "                                               max_fidelity_loss=l,\n",
    "                                               use_low_rank=baa_low_rank)\n",
    "            \n",
    "            vqc = VQC(optimizer, baa_feature_map, var_form, training_input, test_input, None, minibatch_size=batch_size)\n",
    "            experiment(l, reps, quantum_instance, vqc)"
   ]
  }
 ],
 "metadata": {
  "kernelspec": {
   "display_name": "Python 3 (ipykernel)",
   "language": "python",
   "name": "python3"
  },
  "language_info": {
   "codemirror_mode": {
    "name": "ipython",
    "version": 3
   },
   "file_extension": ".py",
   "mimetype": "text/x-python",
   "name": "python",
   "nbconvert_exporter": "python",
   "pygments_lexer": "ipython3",
   "version": "3.9.2"
  }
 },
 "nbformat": 4,
 "nbformat_minor": 5
}
