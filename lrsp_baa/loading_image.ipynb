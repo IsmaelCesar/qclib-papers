{
 "cells": [
  {
   "cell_type": "markdown",
   "id": "63be9e4b",
   "metadata": {},
   "source": [
    "# Loading images\n",
    "### Section 2.2 of the Supplementary Information (Figure 5 and Table 4)"
   ]
  },
  {
   "cell_type": "code",
   "execution_count": null,
   "id": "a12ae81b",
   "metadata": {},
   "outputs": [],
   "source": [
    "import numpy as np\n",
    "import matplotlib.image as image"
   ]
  },
  {
   "cell_type": "code",
   "execution_count": null,
   "id": "aff80e7e",
   "metadata": {},
   "outputs": [],
   "source": [
    "# Image load.\n",
    "matrix_dim = 128\n",
    "\n",
    "img=image.imread(f'data/zebra_{matrix_dim}.bmp')\n",
    "vec=img.reshape(-1)\n",
    "input_state = vec/np.linalg.norm(vec)"
   ]
  },
  {
   "cell_type": "code",
   "execution_count": null,
   "id": "ae241ae3",
   "metadata": {},
   "outputs": [],
   "source": [
    "baa_strategy = 'greedy'\n",
    "baa_low_rank = False"
   ]
  },
  {
   "cell_type": "code",
   "execution_count": null,
   "id": "30950879",
   "metadata": {},
   "outputs": [],
   "source": [
    "# Plots examples of the states that represent the images.\n",
    "\n",
    "_dpi = 96\n",
    "def plot_digits(vectors, labels, text=''):\n",
    "    import matplotlib.pyplot as plt\n",
    "    ncols = len(vectors)\n",
    "    _, axes = plt.subplots(nrows=1, ncols=ncols, figsize=(ncols*1.2*matrix_dim/_dpi, 1.2*matrix_dim/_dpi), dpi=_dpi)\n",
    "    for ax, vector, label in zip(axes, vectors, labels):\n",
    "        ax.set_axis_off()\n",
    "        image = vector[:int(matrix_dim**2)].reshape(matrix_dim, matrix_dim)\n",
    "        ax.imshow(image, cmap=plt.cm.gray, interpolation='none')\n",
    "        ax.set_title(label)\n",
    "\n",
    "    plt.savefig(f'save/zebra{text}.pdf')\n",
    "    plt.show()"
   ]
  },
  {
   "cell_type": "markdown",
   "id": "fd553212",
   "metadata": {},
   "source": [
    "# Ideal"
   ]
  },
  {
   "cell_type": "code",
   "execution_count": null,
   "id": "dc7ce2bc",
   "metadata": {},
   "outputs": [],
   "source": [
    "from qclib.state_preparation.util.baa import adaptive_approximation\n",
    "\n",
    "_images = []\n",
    "_labels = []\n",
    "for l_max in [i/100 for i in range(11)]:\n",
    "    print(l_max, end=' ')\n",
    "    node = adaptive_approximation(input_state, max_fidelity_loss=l_max, strategy=baa_strategy, use_low_rank=baa_low_rank)\n",
    "    _images.append(node.state_vector()**2)\n",
    "    _labels.append(str(l_max))"
   ]
  },
  {
   "cell_type": "code",
   "execution_count": null,
   "id": "8de66d2b",
   "metadata": {},
   "outputs": [],
   "source": [
    "plot_digits(_images, _labels, '_ideal')"
   ]
  },
  {
   "cell_type": "markdown",
   "id": "c11bd9fa",
   "metadata": {},
   "source": [
    "# Noisy"
   ]
  },
  {
   "cell_type": "code",
   "execution_count": null,
   "id": "3e9dd17b",
   "metadata": {},
   "outputs": [],
   "source": [
    "from qiskit import IBMQ, ClassicalRegister, execute, transpile\n",
    "from qiskit.tools.monitor import job_monitor\n",
    "from qiskit.providers.aer.noise import NoiseModel\n",
    "from qiskit.test.mock import FakeMumbai\n",
    "\n",
    "from qclib.state_preparation.baa_schmidt import initialize as baa_schmidt\n",
    "\n",
    "IBMQ.load_account()\n",
    "provider = IBMQ.get_provider(hub='ibm-q-research') # 'ibm-q'"
   ]
  },
  {
   "cell_type": "code",
   "execution_count": null,
   "id": "d75058fb",
   "metadata": {},
   "outputs": [],
   "source": [
    "backend  = provider.get_backend('ibmq_qasm_simulator')\n",
    "noisy_backend  = FakeMumbai()\n",
    "\n",
    "shots      = 8192\n",
    "\n",
    "noise_model = None\n",
    "coupling_map = None\n",
    "basis_gates = None\n",
    "\n",
    "''' uncomment to include noise in the simulation '''\n",
    "#noise_model = NoiseModel.from_backend(noisy_backend)\n",
    "#coupling_map = noisy_backend.configuration().coupling_map\n",
    "#basis_gates = noise_model.basis_gates"
   ]
  },
  {
   "cell_type": "code",
   "execution_count": null,
   "id": "304574d1",
   "metadata": {},
   "outputs": [],
   "source": [
    "def measurement(job):\n",
    "    counts = job.result().get_counts()\n",
    "    v = sum(counts.values())\n",
    "    \n",
    "    counts2 = {}\n",
    "    for m in range(2**n):\n",
    "        pattern = '{:0{}b}'.format(m, n)\n",
    "        if pattern in counts:\n",
    "            counts2[pattern] = counts[pattern]\n",
    "        else:\n",
    "            counts2[pattern] = 0.0\n",
    "\n",
    "    prob = { key : value/v for (key, value) in counts2.items() }\n",
    "\n",
    "    return np.array([val for key, val in prob.items()])    "
   ]
  },
  {
   "cell_type": "code",
   "execution_count": null,
   "id": "831afd03",
   "metadata": {},
   "outputs": [],
   "source": [
    "jobs = {}\n",
    "circuits = {}\n",
    "t_circuits = {}"
   ]
  },
  {
   "cell_type": "code",
   "execution_count": null,
   "id": "c77fbe44",
   "metadata": {},
   "outputs": [],
   "source": [
    "start = 0\n",
    "end = 11"
   ]
  },
  {
   "cell_type": "code",
   "execution_count": null,
   "id": "b095e86b",
   "metadata": {},
   "outputs": [],
   "source": [
    "# Build the quantum circuits\n",
    "for l_max in [i/100 for i in range(start, end)]:\n",
    "    print(l_max, ' ', end='')\n",
    "    circuit = baa_schmidt(input_state, max_fidelity_loss=l_max, strategy=baa_strategy, use_low_rank=baa_low_rank)\n",
    "    circuit.measure_all()\n",
    "    circuits[l_max] = circuit"
   ]
  },
  {
   "cell_type": "code",
   "execution_count": null,
   "id": "d8acd6fb",
   "metadata": {},
   "outputs": [],
   "source": [
    "# Transpile the quantum circuits and count the number of CNOTs\n",
    "for l_max in [i/100 for i in range(start, end)]:\n",
    "    print(l_max, ' ', end='')\n",
    "    circuit = circuits[l_max]\n",
    "\n",
    "    t_circuit = transpile(circuit, basis_gates=['u1','u2','u3', 'cx'])\n",
    "    ops = t_circuit.count_ops()\n",
    "    print(ops['cx'], ' ', end='')\n",
    "\n",
    "    t_circuits[l_max] = t_circuit"
   ]
  },
  {
   "cell_type": "code",
   "execution_count": null,
   "id": "5be29f78",
   "metadata": {},
   "outputs": [],
   "source": [
    "for l_max in [i/100 for i in range(start, end)]:\n",
    "    jobs[l_max] = []"
   ]
  },
  {
   "cell_type": "code",
   "execution_count": null,
   "id": "525d14b1",
   "metadata": {},
   "outputs": [],
   "source": [
    "import time\n",
    "from qiskit.providers.jobstatus import JobStatus\n",
    "\n",
    "def count_running_jobs(jobs):\n",
    "    count = 0\n",
    "    for _, jobs_list in jobs.items():\n",
    "        count += sum([job.status() in (JobStatus.RUNNING, JobStatus.INITIALIZING, JobStatus.QUEUED, JobStatus.VALIDATING) for job in jobs_list])\n",
    "    return count\n",
    "\n",
    "reps = 20\n",
    "print('start', start, 'end',end, 'reps', reps)\n",
    "for l_max in [i/100 for i in range(start, end)]:\n",
    "    print(l_max, ' ', end='')\n",
    "\n",
    "    for rep in range(reps):\n",
    "        print('.', end='')\n",
    "        while count_running_jobs(jobs) >= 20: # maximum number (20) of concurrent jobs\n",
    "            time.sleep(5) # Sleep for 5 seconds\n",
    "\n",
    "        job = execute(t_circuits[l_max], backend, shots=shots, \n",
    "                        coupling_map=coupling_map, basis_gates=basis_gates, noise_model=noise_model)\n",
    "        jobs[l_max].append(job)\n",
    "        "
   ]
  },
  {
   "cell_type": "code",
   "execution_count": null,
   "id": "6a7be164",
   "metadata": {},
   "outputs": [],
   "source": [
    "_images = []\n",
    "_labels = []\n",
    "for l_max in [i/100 for i in range(start, end)]:\n",
    "    print(l_max, end=' ')\n",
    "    print(len(jobs[l_max]), end='')\n",
    "    results = []\n",
    "    for job in jobs[l_max]:\n",
    "        print('.', end='')\n",
    "        job_monitor(job, quiet=True)\n",
    "        try:\n",
    "            results.append(measurement(job))\n",
    "        except Exception as e:\n",
    "            print(e)\n",
    "\n",
    "    _images.append(np.mean(results, axis=0))\n",
    "    _labels.append(str(l_max))"
   ]
  },
  {
   "cell_type": "code",
   "execution_count": null,
   "id": "94ec08ee",
   "metadata": {},
   "outputs": [],
   "source": [
    "plot_digits(_images, _labels, '_'+backend.name())"
   ]
  }
 ],
 "metadata": {
  "kernelspec": {
   "display_name": "Python 3 (ipykernel)",
   "language": "python",
   "name": "python3"
  },
  "language_info": {
   "codemirror_mode": {
    "name": "ipython",
    "version": 3
   },
   "file_extension": ".py",
   "mimetype": "text/x-python",
   "name": "python",
   "nbconvert_exporter": "python",
   "pygments_lexer": "ipython3",
   "version": "3.9.2"
  }
 },
 "nbformat": 4,
 "nbformat_minor": 5
}
